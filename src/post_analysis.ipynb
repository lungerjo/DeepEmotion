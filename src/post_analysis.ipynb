{
 "cells": [
  {
   "cell_type": "code",
   "execution_count": 3,
   "metadata": {},
   "outputs": [],
   "source": [
    "import os\n",
    "import torch\n",
    "from omegaconf import OmegaConf\n",
    "from collections import Counter\n",
    "from tqdm import tqdm\n",
    "from utils.dataset import get_data_loaders\n",
    "from models.CNN import CNN\n",
    "from models.resnet import ResNet, BasicBlock"
   ]
  },
  {
   "cell_type": "code",
   "execution_count": 15,
   "metadata": {},
   "outputs": [
    {
     "name": "stdout",
     "output_type": "stream",
     "text": [
      "Using device: cuda\n",
      "Dataset contains 8 files.\n",
      "Spatial dimensions: (132, 175, 48)\n",
      "Maximum timepoints per file: 542\n",
      "Subjects: ['sub-04']\n",
      "Sessions: ['01' '02' '03' '04' '05' '06' '07' '08']\n",
      "Emotion categories: ['NONE', 'HAPPINESS', 'FEAR', 'SADNESS', 'LOVE', 'ANGER']\n",
      "Total valid labeled timepoints: 799\n",
      "Loaded Observations: 799\n"
     ]
    },
    {
     "name": "stderr",
     "output_type": "stream",
     "text": [
      "/tmp/ipykernel_64757/3338695025.py:79: FutureWarning: You are using `torch.load` with `weights_only=False` (the current default value), which uses the default pickle module implicitly. It is possible to construct malicious pickle data which will execute arbitrary code during unpickling (See https://github.com/pytorch/pytorch/blob/main/SECURITY.md#untrusted-models for more details). In a future release, the default value for `weights_only` will be flipped to `True`. This limits the functions that could be executed during unpickling. Arbitrary objects will no longer be allowed to be loaded via this mode unless they are explicitly allowlisted by the user via `torch.serialization.add_safe_globals`. We recommend you start setting `weights_only=True` for any use case where you don't have full control of the loaded file. Please open an issue on GitHub for any issues related to this experimental feature.\n",
      "  model.load_state_dict(torch.load(model_path_torch, map_location=device))\n"
     ]
    },
    {
     "name": "stdout",
     "output_type": "stream",
     "text": [
      "Loaded model from /home/paperspace/DeepEmotion/src/output/models/k94ke7h1.pth\n"
     ]
    },
    {
     "name": "stderr",
     "output_type": "stream",
     "text": [
      "Evaluating: 100%|██████████| 32/32 [00:14<00:00,  2.15it/s]\n",
      "Evaluating: 100%|██████████| 8/8 [00:03<00:00,  2.12it/s]"
     ]
    },
    {
     "name": "stdout",
     "output_type": "stream",
     "text": [
      "Training Accuracy: 99.53%\n",
      "Validation Accuracy: 88.12%\n",
      "Training Label Distribution:\n",
      "HAPPINESS: 157\n",
      "FEAR: 140\n",
      "SADNESS: 194\n",
      "LOVE: 86\n",
      "ANGER: 62\n",
      "Validation Label Distribution:\n",
      "HAPPINESS: 49\n",
      "FEAR: 30\n",
      "SADNESS: 44\n",
      "LOVE: 19\n",
      "ANGER: 18\n"
     ]
    },
    {
     "name": "stderr",
     "output_type": "stream",
     "text": [
      "\n"
     ]
    }
   ],
   "source": [
    "# Config variables\n",
    "PROJECT_ROOT = os.path.abspath(\"../\")\n",
    "\n",
    "cfg = OmegaConf.create({\n",
    "    \"project_root\": PROJECT_ROOT,\n",
    "    \"verbose\": True,\n",
    "    \"wandb\": True,\n",
    "    \"sys_log\": True,\n",
    "    \"model\": \"CNN\",\n",
    "    \"CNN\": {\n",
    "        \"c1\": 16, \"c2\": 32, \"c3\": 64, \"k1\": 3, \"k2\": 3, \"k3\": 3,\n",
    "        \"pk\": 2, \"ps\": 2, \"kernel_size\": 3, \"stride\": 1, \"padding\": 1\n",
    "    },\n",
    "    \"train\": {\n",
    "        \"epochs\": 50, \"batch_size\": 20, \"shuffle\": True, \"train_ratio\": 0.8,\n",
    "        \"print_label_frequencies\": True\n",
    "    },\n",
    "    \"data\": {\n",
    "        \"data_path\": f\"{PROJECT_ROOT}/data/raw/derivatives/non-linear_anatomical_alignment\",\n",
    "        \"zarr_dir_path\": f\"{PROJECT_ROOT}/zarr_datasets\",\n",
    "        \"zarr_path\": f\"{PROJECT_ROOT}/zarr_datasets/pool_emotions\",\n",
    "        \"label_path\": f\"{PROJECT_ROOT}/data/updated_annotations/pooled_annotations_structured.tsv\",\n",
    "        \"sessions\": [\"01\", \"02\", \"03\", \"04\", \"05\", \"06\", \"07\", \"08\"],\n",
    "        \"file_pattern_template\": \"*_ses-forrestgump_task-forrestgump_rec-dico7Tad2grpbold7TadNL_run-{}_bold.nii.gz\",\n",
    "        \"subjects\": [\"sub-04\"],\n",
    "        \"session_offsets\": [0, 902, 1784, 2660, 3636, 4560, 5438, 6522],\n",
    "        \"emotion_idx\": {\"NONE\": 0, \"HAPPINESS\": 1, \"FEAR\": 2, \"SADNESS\": 3, \"LOVE\": 4, \"ANGER\": 5},\n",
    "        \"normalization\": False,\n",
    "        \"weight_decay\": 0,\n",
    "        \"learning_rate\": 0.0001,\n",
    "        \"seed\": 42,\n",
    "        \"save_model\": True,\n",
    "        \"load_model\": False,\n",
    "        \"save_model_path\": \"output/models\",\n",
    "        \"load_model_path\": f\"{PROJECT_ROOT}/src/output/models/k94ke7h1.pth\",\n",
    "    }\n",
    "})\n",
    "\n",
    "def evaluate_model(model, dataloader, device):\n",
    "    model.eval()\n",
    "    correct = 0\n",
    "    total = 0\n",
    "    label_counts = Counter()\n",
    "    \n",
    "    with torch.no_grad():\n",
    "        for batch in tqdm(dataloader, desc=\"Evaluating\"):\n",
    "            data, labels = batch[\"data_tensor\"], batch[\"label_tensor\"]\n",
    "            data = data.float().to(device)\n",
    "            labels = labels.long().to(device)\n",
    "            if data.dim() == 4:\n",
    "                data = data.unsqueeze(1)\n",
    "            output = model(data)\n",
    "            _, predictions = torch.max(output, dim=1)\n",
    "            correct += (predictions == labels).sum().item()\n",
    "            total += labels.size(0)\n",
    "            label_counts.update(labels.cpu().numpy())\n",
    "    \n",
    "    accuracy = correct / total if total > 0 else 0\n",
    "    return accuracy * 100, label_counts\n",
    "\n",
    "def main():\n",
    "    device = torch.device(\"cuda\" if torch.cuda.is_available() else \"cpu\")\n",
    "    print(f\"Using device: {device}\")\n",
    "    \n",
    "    train_dataloader, val_dataloader = get_data_loaders(cfg)\n",
    "    print(f\"Loaded Observations: {len(train_dataloader.dataset) + len(val_dataloader.dataset)}\")\n",
    "    \n",
    "    output_dim = len(cfg.data.emotion_idx)\n",
    "    model_path_torch = cfg.data.load_model_path\n",
    "    \n",
    "    if cfg.model == \"CNN\":\n",
    "        model = CNN(cfg=cfg, output_dim=output_dim)\n",
    "    elif cfg.model == \"ResNet\":\n",
    "        model = ResNet(BasicBlock, [1, 1, 1, 1], in_channels=1, num_classes=output_dim)\n",
    "    else:\n",
    "        raise ValueError(\"Invalid model specified\")\n",
    "    \n",
    "    if model_path_torch:\n",
    "        model.load_state_dict(torch.load(model_path_torch, map_location=device))\n",
    "        print(f\"Loaded model from {model_path_torch}\")\n",
    "    \n",
    "    model.to(device)\n",
    "    train_accuracy, train_label_counts = evaluate_model(model, train_dataloader, device)\n",
    "    val_accuracy, val_label_counts = evaluate_model(model, val_dataloader, device)\n",
    "    \n",
    "    print(f\"Training Accuracy: {train_accuracy:.2f}%\")\n",
    "    print(f\"Validation Accuracy: {val_accuracy:.2f}%\")\n",
    "    \n",
    "    inverse_emotion_idx = {v: k for k, v in cfg.data.emotion_idx.items()}\n",
    "    print(\"Training Label Distribution:\")\n",
    "    for label, count in sorted(train_label_counts.items()):\n",
    "        print(f\"{inverse_emotion_idx[label]}: {count}\")\n",
    "    \n",
    "    print(\"Validation Label Distribution:\")\n",
    "    for label, count in sorted(val_label_counts.items()):\n",
    "        print(f\"{inverse_emotion_idx[label]}: {count}\")\n",
    "\n",
    "main()\n"
   ]
  }
 ],
 "metadata": {
  "kernelspec": {
   "display_name": "deepemotion-r8YRC923-py3.10",
   "language": "python",
   "name": "python3"
  },
  "language_info": {
   "codemirror_mode": {
    "name": "ipython",
    "version": 3
   },
   "file_extension": ".py",
   "mimetype": "text/x-python",
   "name": "python",
   "nbconvert_exporter": "python",
   "pygments_lexer": "ipython3",
   "version": "3.12.8"
  }
 },
 "nbformat": 4,
 "nbformat_minor": 2
}
