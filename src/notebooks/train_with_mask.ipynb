{
 "cells": [
  {
   "cell_type": "code",
   "execution_count": 1,
   "metadata": {},
   "outputs": [
    {
     "name": "stdout",
     "output_type": "stream",
     "text": [
      "CUDA is available. Using GPU: Quadro M4000\n",
      "{'project_root': '/home/paperspace/DeepEmotion', 'verbose': True, 'wandb': True, 'sys_log': True, 'model': 'CNN', 'CNN': {'c1': 16, 'c2': 32, 'c3': 64, 'k1': 3, 'k2': 3, 'k3': 3, 'pk': 2, 'ps': 2, 'kernel_size': 3, 'stride': 1, 'padding': 1}, 'train': {'epochs': 50, 'batch_size': 2, 'shuffle': True, 'train_ratio': 0.8, 'print_label_frequencies': True}, 'data': {'data_path': '${project_root}/data/raw/derivatives/non-linear_anatomical_alignment', 'zarr_dir_path': '${project_root}/zarr_datasets', 'zarr_path': '${project_root}/zarr_datasets/pool_emotions', 'label_path': '${project_root}/data/updated_annotations/pooled_annotations_structured.tsv', 'sessions': ['02'], 'file_pattern_template': '*_ses-forrestgump_task-forrestgump_rec-dico7Tad2grpbold7TadNL_run-{}_bold.nii.gz', 'subjects': ['sub-01'], 'session_offsets': [0, 902, 1784, 2660, 3636, 4560, 5438, 6522], 'emotion_idx': {'NONE': 0, 'HAPPINESS': 1, 'FEAR': 2, 'SADNESS': 3, 'LOVE': 4, 'ANGER': 5}, 'normalization': False, 'weight_decay': 0, 'learning_rate': 0.0001, 'seed': 42, 'save_model': True, 'load_model': False, 'save_model_path': 'output/models', 'load_model_path': 'None'}}\n"
     ]
    }
   ],
   "source": [
    "import torch\n",
    "from utils.dataset import get_data_loaders\n",
    "import hydra\n",
    "from omegaconf import DictConfig, OmegaConf\n",
    "from hydra import initialize, compose\n",
    "import torch\n",
    "import os\n",
    "from utils.dataset import get_data_loaders\n",
    "from models.CNN import CNN\n",
    "from tqdm import tqdm\n",
    "from utils.dataset import get_data_loaders\n",
    "from models.CNN import CNN\n",
    "import pickle\n",
    "\n",
    "if torch.cuda.is_available():\n",
    "    device = torch.device(\"cuda\")\n",
    "    print(f\"CUDA is available. Using GPU: {torch.cuda.get_device_name(0)}\")\n",
    "else:\n",
    "    device = torch.device(\"cpu\")\n",
    "    print(\"CUDA is NOT available. Using CPU.\")\n",
    "\n",
    "hydra.core.global_hydra.GlobalHydra.instance().clear()\n",
    "with initialize(version_base=None, config_path=\"../src/configs\"):\n",
    "    cfg = compose(config_name=\"base\", overrides=[\"project_root=/home/paperspace/DeepEmotion\"])\n",
    "print(cfg)"
   ]
  },
  {
   "cell_type": "code",
   "execution_count": null,
   "metadata": {},
   "outputs": [],
   "source": [
    "device = torch.device(\"cuda\" if torch.cuda.is_available() else \"cpu\")\n",
    "\n",
    "# Suppose cfg.data.emotion_idx maps something like { \"happy\": 0, \"sad\": 1, ... }\n",
    "# We'll create a dict to hold a list of gradients for each class:\n",
    "class_gradients = {\n",
    "    idx: [] for emotion, idx in cfg.data.emotion_idx.items() if emotion != \"NONE\"\n",
    "}\n",
    "\n",
    "# Config variables\n",
    "PROJECT_ROOT = os.path.abspath(\"../\")\n",
    "\n",
    "cfg = OmegaConf.create({\n",
    "    \"project_root\": PROJECT_ROOT,\n",
    "    \"verbose\": True,\n",
    "    \"wandb\": True,\n",
    "    \"sys_log\": True,\n",
    "    \"model\": \"CNN\",\n",
    "    \"CNN\": {\n",
    "        \"c1\": 16, \"c2\": 32, \"c3\": 64, \"k1\": 3, \"k2\": 3, \"k3\": 3,\n",
    "        \"pk\": 2, \"ps\": 2, \"kernel_size\": 3, \"stride\": 1, \"padding\": 1\n",
    "    },\n",
    "    \"train\": {\n",
    "        \"epochs\": 50, \"batch_size\": 10, \"shuffle\": True, \"train_ratio\": 0.8,\n",
    "        \"print_label_frequencies\": True\n",
    "    },\n",
    "    \"data\": {\n",
    "        \"data_path\": f\"{PROJECT_ROOT}/data/raw/derivatives/non-linear_anatomical_alignment\",\n",
    "        \"zarr_dir_path\": f\"{PROJECT_ROOT}/zarr_datasets\",\n",
    "        \"zarr_path\": f\"{PROJECT_ROOT}/zarr_datasets/pool_emotions\",\n",
    "        \"label_path\": f\"{PROJECT_ROOT}/data/updated_annotations/pooled_annotations_structured.tsv\",\n",
    "        \"sessions\": [\"01\", \"02\", \"03\", \"04\", \"05\", \"06\", \"07\", \"08\"],\n",
    "        \"file_pattern_template\": \"*_ses-forrestgump_task-forrestgump_rec-dico7Tad2grpbold7TadNL_run-{}_bold.nii.gz\",\n",
    "        \"subjects\": [\"sub-1\"],\n",
    "        \"session_offsets\": [0, 902, 1784, 2660, 3636, 4560, 5438, 6522],\n",
    "        \"emotion_idx\": {\"NONE\": 0, \"HAPPINESS\": 1, \"FEAR\": 2, \"SADNESS\": 3, \"LOVE\": 4, \"ANGER\": 5},\n",
    "        \"normalization\": False,\n",
    "        \"weight_decay\": 0,\n",
    "        \"learning_rate\": 0.0001,\n",
    "        \"seed\": 42,\n",
    "        \"save_model\": True,\n",
    "        \"load_model\": False,\n",
    "        \"save_model_path\": \"output/models\",\n",
    "        \"load_model_path\": f\"{PROJECT_ROOT}/src/output/models/sub_ALL.pth\",\n",
    "        \"output_csv_path\": f\"{PROJECT_ROOT}/src/output/PCA/hidden/sub_ALL.csv\"\n",
    "    }\n",
    "})"
   ]
  }
 ],
 "metadata": {
  "kernelspec": {
   "display_name": "deepemotion-r8YRC923-py3.12",
   "language": "python",
   "name": "python3"
  },
  "language_info": {
   "codemirror_mode": {
    "name": "ipython",
    "version": 3
   },
   "file_extension": ".py",
   "mimetype": "text/x-python",
   "name": "python",
   "nbconvert_exporter": "python",
   "pygments_lexer": "ipython3",
   "version": "3.12.8"
  }
 },
 "nbformat": 4,
 "nbformat_minor": 2
}
